{
 "cells": [
  {
   "cell_type": "code",
   "execution_count": 7,
   "id": "initial_id",
   "metadata": {
    "collapsed": true,
    "ExecuteTime": {
     "end_time": "2023-09-27T14:12:29.773234800Z",
     "start_time": "2023-09-27T14:12:29.725273600Z"
    }
   },
   "outputs": [],
   "source": [
    "import numpy as np"
   ]
  },
  {
   "cell_type": "markdown",
   "source": [],
   "metadata": {
    "collapsed": false
   },
   "id": "95ee13baa7b83b1c"
  },
  {
   "cell_type": "code",
   "execution_count": 8,
   "outputs": [
    {
     "data": {
      "text/plain": "array([0, 1, 2, 3])"
     },
     "execution_count": 8,
     "metadata": {},
     "output_type": "execute_result"
    }
   ],
   "source": [
    "a = np.array([0, 1, 2, 3])\n",
    "a"
   ],
   "metadata": {
    "collapsed": false,
    "ExecuteTime": {
     "end_time": "2023-09-27T14:12:29.837249100Z",
     "start_time": "2023-09-27T14:12:29.741278900Z"
    }
   },
   "id": "795252cf408c3a3"
  },
  {
   "cell_type": "code",
   "execution_count": 13,
   "outputs": [
    {
     "data": {
      "text/plain": "array([-1.0000000e+00, -9.9000000e-01, -9.8000000e-01, -9.7000000e-01,\n       -9.6000000e-01, -9.5000000e-01, -9.4000000e-01, -9.3000000e-01,\n       -9.2000000e-01, -9.1000000e-01, -9.0000000e-01, -8.9000000e-01,\n       -8.8000000e-01, -8.7000000e-01, -8.6000000e-01, -8.5000000e-01,\n       -8.4000000e-01, -8.3000000e-01, -8.2000000e-01, -8.1000000e-01,\n       -8.0000000e-01, -7.9000000e-01, -7.8000000e-01, -7.7000000e-01,\n       -7.6000000e-01, -7.5000000e-01, -7.4000000e-01, -7.3000000e-01,\n       -7.2000000e-01, -7.1000000e-01, -7.0000000e-01, -6.9000000e-01,\n       -6.8000000e-01, -6.7000000e-01, -6.6000000e-01, -6.5000000e-01,\n       -6.4000000e-01, -6.3000000e-01, -6.2000000e-01, -6.1000000e-01,\n       -6.0000000e-01, -5.9000000e-01, -5.8000000e-01, -5.7000000e-01,\n       -5.6000000e-01, -5.5000000e-01, -5.4000000e-01, -5.3000000e-01,\n       -5.2000000e-01, -5.1000000e-01, -5.0000000e-01, -4.9000000e-01,\n       -4.8000000e-01, -4.7000000e-01, -4.6000000e-01, -4.5000000e-01,\n       -4.4000000e-01, -4.3000000e-01, -4.2000000e-01, -4.1000000e-01,\n       -4.0000000e-01, -3.9000000e-01, -3.8000000e-01, -3.7000000e-01,\n       -3.6000000e-01, -3.5000000e-01, -3.4000000e-01, -3.3000000e-01,\n       -3.2000000e-01, -3.1000000e-01, -3.0000000e-01, -2.9000000e-01,\n       -2.8000000e-01, -2.7000000e-01, -2.6000000e-01, -2.5000000e-01,\n       -2.4000000e-01, -2.3000000e-01, -2.2000000e-01, -2.1000000e-01,\n       -2.0000000e-01, -1.9000000e-01, -1.8000000e-01, -1.7000000e-01,\n       -1.6000000e-01, -1.5000000e-01, -1.4000000e-01, -1.3000000e-01,\n       -1.2000000e-01, -1.1000000e-01, -1.0000000e-01, -9.0000000e-02,\n       -8.0000000e-02, -7.0000000e-02, -6.0000000e-02, -5.0000000e-02,\n       -4.0000000e-02, -3.0000000e-02, -2.0000000e-02, -1.0000000e-02,\n        8.8817842e-16,  1.0000000e-02,  2.0000000e-02,  3.0000000e-02,\n        4.0000000e-02,  5.0000000e-02,  6.0000000e-02,  7.0000000e-02,\n        8.0000000e-02,  9.0000000e-02,  1.0000000e-01,  1.1000000e-01,\n        1.2000000e-01,  1.3000000e-01,  1.4000000e-01,  1.5000000e-01,\n        1.6000000e-01,  1.7000000e-01,  1.8000000e-01,  1.9000000e-01,\n        2.0000000e-01,  2.1000000e-01,  2.2000000e-01,  2.3000000e-01,\n        2.4000000e-01,  2.5000000e-01,  2.6000000e-01,  2.7000000e-01,\n        2.8000000e-01,  2.9000000e-01,  3.0000000e-01,  3.1000000e-01,\n        3.2000000e-01,  3.3000000e-01,  3.4000000e-01,  3.5000000e-01,\n        3.6000000e-01,  3.7000000e-01,  3.8000000e-01,  3.9000000e-01,\n        4.0000000e-01,  4.1000000e-01,  4.2000000e-01,  4.3000000e-01,\n        4.4000000e-01,  4.5000000e-01,  4.6000000e-01,  4.7000000e-01,\n        4.8000000e-01,  4.9000000e-01,  5.0000000e-01,  5.1000000e-01,\n        5.2000000e-01,  5.3000000e-01,  5.4000000e-01,  5.5000000e-01,\n        5.6000000e-01,  5.7000000e-01,  5.8000000e-01,  5.9000000e-01,\n        6.0000000e-01,  6.1000000e-01,  6.2000000e-01,  6.3000000e-01,\n        6.4000000e-01,  6.5000000e-01,  6.6000000e-01,  6.7000000e-01,\n        6.8000000e-01,  6.9000000e-01,  7.0000000e-01,  7.1000000e-01,\n        7.2000000e-01,  7.3000000e-01,  7.4000000e-01,  7.5000000e-01,\n        7.6000000e-01,  7.7000000e-01,  7.8000000e-01,  7.9000000e-01,\n        8.0000000e-01,  8.1000000e-01,  8.2000000e-01,  8.3000000e-01,\n        8.4000000e-01,  8.5000000e-01,  8.6000000e-01,  8.7000000e-01,\n        8.8000000e-01,  8.9000000e-01,  9.0000000e-01,  9.1000000e-01,\n        9.2000000e-01,  9.3000000e-01,  9.4000000e-01,  9.5000000e-01,\n        9.6000000e-01,  9.7000000e-01,  9.8000000e-01,  9.9000000e-01])"
     },
     "execution_count": 13,
     "metadata": {},
     "output_type": "execute_result"
    }
   ],
   "source": [
    "b = np.arange(-1, 1, 0.01)\n",
    "b"
   ],
   "metadata": {
    "collapsed": false,
    "ExecuteTime": {
     "end_time": "2023-09-27T14:14:07.635583900Z",
     "start_time": "2023-09-27T14:14:07.608537100Z"
    }
   },
   "id": "d7b09be9818bfd87"
  },
  {
   "cell_type": "code",
   "execution_count": 16,
   "outputs": [
    {
     "data": {
      "text/plain": "array([ 1.,  2.,  3.,  4.,  5.,  6.,  7.,  8.,  9., 10.])"
     },
     "execution_count": 16,
     "metadata": {},
     "output_type": "execute_result"
    }
   ],
   "source": [
    "np.linspace(1, 10, 10)"
   ],
   "metadata": {
    "collapsed": false,
    "ExecuteTime": {
     "end_time": "2023-09-27T14:15:50.382759100Z",
     "start_time": "2023-09-27T14:15:50.354071300Z"
    }
   },
   "id": "edccb5d21f89d6a5"
  },
  {
   "cell_type": "code",
   "execution_count": 21,
   "outputs": [
    {
     "data": {
      "text/plain": "(array([[1, 2],\n        [3, 4]]),\n dtype('int32'))"
     },
     "execution_count": 21,
     "metadata": {},
     "output_type": "execute_result"
    }
   ],
   "source": [
    "M = np.array([[1, 2], [3, 4]])\n",
    "M, M.dtype"
   ],
   "metadata": {
    "collapsed": false,
    "ExecuteTime": {
     "end_time": "2023-09-27T14:18:54.976801500Z",
     "start_time": "2023-09-27T14:18:54.942793900Z"
    }
   },
   "id": "86a0db37fcadb075"
  },
  {
   "cell_type": "code",
   "execution_count": 22,
   "outputs": [
    {
     "data": {
      "text/plain": "array([0, 2, 4, 6, 8])"
     },
     "execution_count": 22,
     "metadata": {},
     "output_type": "execute_result"
    }
   ],
   "source": [
    "a = np.arange(10)\n",
    "a"
   ],
   "metadata": {
    "collapsed": false,
    "ExecuteTime": {
     "end_time": "2023-09-27T14:28:14.392563500Z",
     "start_time": "2023-09-27T14:28:14.354372800Z"
    }
   },
   "id": "4ee76d2f4aa0047f"
  },
  {
   "cell_type": "code",
   "execution_count": 23,
   "outputs": [
    {
     "data": {
      "text/plain": "(array([0, 2, 4, 6, 8]), array([10,  2,  4,  6,  8]))"
     },
     "execution_count": 23,
     "metadata": {},
     "output_type": "execute_result"
    }
   ],
   "source": [
    "b = a.copy()\n",
    "b[0] = 10\n",
    "a, b"
   ],
   "metadata": {
    "collapsed": false,
    "ExecuteTime": {
     "end_time": "2023-09-27T14:30:14.879219300Z",
     "start_time": "2023-09-27T14:30:14.841971600Z"
    }
   },
   "id": "d9167744bc58e905"
  },
  {
   "cell_type": "code",
   "execution_count": 29,
   "outputs": [
    {
     "data": {
      "text/plain": "array([ 0,  2,  4,  6,  8, 10,  2,  4,  6,  8])"
     },
     "execution_count": 29,
     "metadata": {},
     "output_type": "execute_result"
    }
   ],
   "source": [
    "np.concatenate((a, b.T), axis=0)"
   ],
   "metadata": {
    "collapsed": false,
    "ExecuteTime": {
     "end_time": "2023-09-27T14:38:47.672525600Z",
     "start_time": "2023-09-27T14:38:47.642752Z"
    }
   },
   "id": "77bf00952ced0d07"
  },
  {
   "cell_type": "code",
   "execution_count": 39,
   "outputs": [
    {
     "data": {
      "text/plain": "array([[1, 0, 0, 0],\n       [0, 2, 0, 0],\n       [0, 0, 3, 0],\n       [0, 0, 0, 4]])"
     },
     "execution_count": 39,
     "metadata": {},
     "output_type": "execute_result"
    }
   ],
   "source": [
    "c = np.diag(np.array([1, 2, 3, 4]))\n",
    "c"
   ],
   "metadata": {
    "collapsed": false,
    "ExecuteTime": {
     "end_time": "2023-09-27T14:46:16.858655800Z",
     "start_time": "2023-09-27T14:46:16.798897300Z"
    }
   },
   "id": "5ad38fb6a833640"
  },
  {
   "cell_type": "code",
   "execution_count": 41,
   "outputs": [
    {
     "data": {
      "text/plain": "array([[1, 0, 0, 0],\n       [0, 2, 0, 0],\n       [0, 0, 3, 0],\n       [0, 0, 0, 4]])"
     },
     "execution_count": 41,
     "metadata": {},
     "output_type": "execute_result"
    }
   ],
   "source": [
    "c[::-1]"
   ],
   "metadata": {
    "collapsed": false,
    "ExecuteTime": {
     "end_time": "2023-09-27T14:46:26.176546700Z",
     "start_time": "2023-09-27T14:46:26.133705300Z"
    }
   },
   "id": "840b8773c08e712d"
  },
  {
   "cell_type": "code",
   "execution_count": 42,
   "outputs": [
    {
     "data": {
      "text/plain": "array([[41, 90, 35, 76],\n       [86,  7, 29, 20],\n       [95, 90, 35, 85],\n       [78, 55, 93, 47]])"
     },
     "execution_count": 42,
     "metadata": {},
     "output_type": "execute_result"
    }
   ],
   "source": [
    "M = np.random.randint(1, 100, size=(4, 4))\n",
    "M"
   ],
   "metadata": {
    "collapsed": false,
    "ExecuteTime": {
     "end_time": "2023-09-27T14:55:15.719390200Z",
     "start_time": "2023-09-27T14:55:15.622442300Z"
    }
   },
   "id": "306db531b3af3be6"
  },
  {
   "cell_type": "code",
   "execution_count": 48,
   "outputs": [
    {
     "data": {
      "text/plain": "array([[ 7, 29, 20],\n       [90, 35, 85],\n       [55, 93, 47]])"
     },
     "execution_count": 48,
     "metadata": {},
     "output_type": "execute_result"
    }
   ],
   "source": [
    "M[1:4, 1:4]"
   ],
   "metadata": {
    "collapsed": false,
    "ExecuteTime": {
     "end_time": "2023-09-27T14:56:36.044671800Z",
     "start_time": "2023-09-27T14:56:36.006264900Z"
    }
   },
   "id": "1d431a22d827eafd"
  },
  {
   "cell_type": "code",
   "execution_count": 49,
   "outputs": [],
   "source": [
    "a = np.array([1, 2, 3, 4])\n",
    "b = np.array([4, 2, 2, 4])"
   ],
   "metadata": {
    "collapsed": false,
    "ExecuteTime": {
     "end_time": "2023-09-27T15:15:28.658319900Z",
     "start_time": "2023-09-27T15:15:28.624310600Z"
    }
   },
   "id": "ebbd23dd4c8c7a7f"
  },
  {
   "cell_type": "code",
   "execution_count": 50,
   "outputs": [
    {
     "data": {
      "text/plain": "array([False, False,  True, False])"
     },
     "execution_count": 50,
     "metadata": {},
     "output_type": "execute_result"
    }
   ],
   "source": [
    "a > b"
   ],
   "metadata": {
    "collapsed": false,
    "ExecuteTime": {
     "end_time": "2023-09-27T15:15:33.132286300Z",
     "start_time": "2023-09-27T15:15:33.092990300Z"
    }
   },
   "id": "1533f646618dabb8"
  },
  {
   "cell_type": "code",
   "execution_count": 51,
   "outputs": [
    {
     "data": {
      "text/plain": "array([False,  True,  True,  True])"
     },
     "execution_count": 51,
     "metadata": {},
     "output_type": "execute_result"
    }
   ],
   "source": [
    "a >= b"
   ],
   "metadata": {
    "collapsed": false,
    "ExecuteTime": {
     "end_time": "2023-09-27T15:15:37.565307800Z",
     "start_time": "2023-09-27T15:15:37.524469600Z"
    }
   },
   "id": "9a80dfe6553864cc"
  },
  {
   "cell_type": "code",
   "execution_count": 52,
   "outputs": [
    {
     "data": {
      "text/plain": "array([False,  True, False,  True])"
     },
     "execution_count": 52,
     "metadata": {},
     "output_type": "execute_result"
    }
   ],
   "source": [
    "a == b"
   ],
   "metadata": {
    "collapsed": false,
    "ExecuteTime": {
     "end_time": "2023-09-27T15:15:43.368437Z",
     "start_time": "2023-09-27T15:15:43.324883500Z"
    }
   },
   "id": "6df4a6800dffb1b3"
  },
  {
   "cell_type": "code",
   "execution_count": null,
   "outputs": [],
   "source": [],
   "metadata": {
    "collapsed": false
   },
   "id": "406e0ffc42296252"
  }
 ],
 "metadata": {
  "kernelspec": {
   "display_name": "Python 3",
   "language": "python",
   "name": "python3"
  },
  "language_info": {
   "codemirror_mode": {
    "name": "ipython",
    "version": 2
   },
   "file_extension": ".py",
   "mimetype": "text/x-python",
   "name": "python",
   "nbconvert_exporter": "python",
   "pygments_lexer": "ipython2",
   "version": "2.7.6"
  }
 },
 "nbformat": 4,
 "nbformat_minor": 5
}
