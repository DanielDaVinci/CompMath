{
 "cells": [
  {
   "cell_type": "code",
   "execution_count": 642,
   "metadata": {
    "collapsed": true
   },
   "outputs": [],
   "source": [
    "import numpy as np\n",
    "import matplotlib.pyplot as plt"
   ]
  },
  {
   "cell_type": "code",
   "execution_count": 643,
   "outputs": [],
   "source": [
    "def progonka(mat: np.matrix, vals: np.array):\n",
    "    n = len(vals)\n",
    "\n",
    "    a = np.array([mat[0, 1] / mat[0, 0]])\n",
    "    b = np.array([vals[0] / mat[0, 0]])\n",
    "\n",
    "    for i in range(1, n):\n",
    "        y = mat[i, i] + mat[i, i - 1] * a[len(a) - 1]\n",
    "\n",
    "        if i < n -1:\n",
    "            a = np.append(a, - mat[i, i + 1] / y)\n",
    "        b = np.append(b, (vals[i] - mat[i, i - 1] * b[len(b) - 1]) / y)\n",
    "\n",
    "    res = np.array([b[len(b) - 1]])\n",
    "    for i in range(n - 2, -1, -1):\n",
    "        res = np.append(res, a[i] * res[len(res) - 1] + b[i])\n",
    "\n",
    "    return res"
   ],
   "metadata": {
    "collapsed": false
   }
  },
  {
   "cell_type": "code",
   "execution_count": 644,
   "outputs": [],
   "source": [
    "def splain_3_interpolant(x_points, x_nodes, y_nodes):\n",
    "    n = len(x_nodes) - 1\n",
    "\n",
    "    h = np.array([x_nodes[i + 1] - x_nodes[i] if (x_nodes[i + 1] - x_nodes[i] != 0) else 0.000000000000001 for i in range(n)])\n",
    "\n",
    "    mat = np.matrix(\n",
    "        [([1.] + [0.] * n)] +\n",
    "\n",
    "        [[0.] * (i - 1) +\n",
    "         [h[i - 1]] + [2. * (h[i]+h[i - 1])] + [h[i]] +\n",
    "         [0.] * (n - i - 1) for i in range(1, n)] +\n",
    "\n",
    "        [([0.] * n + [1.])]\n",
    "    )\n",
    "\n",
    "    vals = np.array([0.] +\n",
    "        [3. / h[i] * (y_nodes[i + 1] - y_nodes[i]) - 3. / h[i - 1] * (y_nodes[i] - y_nodes[i - 1]) for i in range(1, n)] +\n",
    "    [0.])\n",
    "\n",
    "    c = progonka(mat, vals)\n",
    "\n",
    "    b = []\n",
    "    for i in range(n):\n",
    "        b.append(1 / h[i] * (y_nodes[i + 1] - y_nodes[i]) - h[i] / 3 * (c[i + 1] + 2 * c[i]))\n",
    "\n",
    "    d = []\n",
    "    for i in range(n):\n",
    "        d.append((c[i + 1] - c[i]) / (3 * h[i]))\n",
    "\n",
    "    points = []\n",
    "    # for point in x_points:\n",
    "    #     for i in range(n):\n",
    "    #         if (x_nodes[i] <= point <= x_nodes[i + 1]) or (x_nodes[i] >= point >= x_nodes[i + 1]):\n",
    "    #             points.append((point, y_nodes[i] + b[i] * (point - x_nodes[i]) + c[i] * (point - x_nodes[i])**2 + d[i] * (point - x_nodes[i])**3))\n",
    "    #             break\n",
    "\n",
    "    for i in range(n):\n",
    "        for point in np.arange(x_nodes[i], x_nodes[i + 1], (x_nodes[i + 1] - x_nodes[i]) / 100.):\n",
    "            points.append((point, y_nodes[i] + b[i] * (point - x_nodes[i]) + c[i] * (point - x_nodes[i])**2 + d[i] * (point - x_nodes[i])**3))\n",
    "\n",
    "    return points\n"
   ],
   "metadata": {
    "collapsed": false
   }
  },
  {
   "cell_type": "code",
   "execution_count": 645,
   "outputs": [],
   "source": [
    "def data_plot_with_interpolant(x_nodes, y_nodes, method):\n",
    "    fig, ax = plt.subplots(1, 1, figsize=(12, 6))\n",
    "\n",
    "    x_for_plotting = np.arange(min(x_nodes), max(x_nodes), 0.0001)\n",
    "    ax.plot(x_nodes, y_nodes, 'ro', markersize=10)\n",
    "\n",
    "    points = method(x_for_plotting, x_nodes, y_nodes)\n",
    "    print(points)\n",
    "    x_points = list(map(lambda x: x[0], points))\n",
    "    y_points = list(map(lambda x: x[1], points))\n",
    "    ax.plot(x_points, y_points, 'g-', linewidth=4)\n",
    "    ax.grid()"
   ],
   "metadata": {
    "collapsed": false
   }
  },
  {
   "cell_type": "code",
   "execution_count": 646,
   "outputs": [],
   "source": [
    "def get_points_from_file(filename: str):\n",
    "    f = open(filename, 'r')\n",
    "    return list(map(lambda x: tuple(map(float, x.split(' '))), f.readlines()))"
   ],
   "metadata": {
    "collapsed": false
   }
  },
  {
   "cell_type": "code",
   "execution_count": 647,
   "outputs": [],
   "source": [
    "def lab1_base(filename_in: str, factor:int, filename_out:str):\n",
    "    points = get_points_from_file(filename_in)[:5]\n",
    "    n = len(points)\n",
    "\n",
    "    x_nodes = [points[i][0] * 100 for i in range(0, n, 1)]\n",
    "    y_nodes = [points[i][1] * 100 for i in range(0, n, 1)]\n",
    "\n",
    "    data_plot_with_interpolant(x_nodes, y_nodes, splain_3_interpolant)\n"
   ],
   "metadata": {
    "collapsed": false
   }
  },
  {
   "cell_type": "code",
   "execution_count": 648,
   "outputs": [
    {
     "ename": "ZeroDivisionError",
     "evalue": "float division by zero",
     "output_type": "error",
     "traceback": [
      "\u001B[1;31m---------------------------------------------------------------------------\u001B[0m",
      "\u001B[1;31mZeroDivisionError\u001B[0m                         Traceback (most recent call last)",
      "Cell \u001B[1;32mIn[648], line 1\u001B[0m\n\u001B[1;32m----> 1\u001B[0m \u001B[43mlab1_base\u001B[49m\u001B[43m(\u001B[49m\u001B[38;5;124;43m'\u001B[39;49m\u001B[38;5;124;43mcontour.txt\u001B[39;49m\u001B[38;5;124;43m'\u001B[39;49m\u001B[43m,\u001B[49m\u001B[43m \u001B[49m\u001B[38;5;241;43m10\u001B[39;49m\u001B[43m,\u001B[49m\u001B[43m \u001B[49m\u001B[38;5;124;43m'\u001B[39;49m\u001B[38;5;124;43m'\u001B[39;49m\u001B[43m)\u001B[49m\n",
      "Cell \u001B[1;32mIn[647], line 8\u001B[0m, in \u001B[0;36mlab1_base\u001B[1;34m(filename_in, factor, filename_out)\u001B[0m\n\u001B[0;32m      5\u001B[0m x_nodes \u001B[38;5;241m=\u001B[39m [points[i][\u001B[38;5;241m0\u001B[39m] \u001B[38;5;241m*\u001B[39m \u001B[38;5;241m100\u001B[39m \u001B[38;5;28;01mfor\u001B[39;00m i \u001B[38;5;129;01min\u001B[39;00m \u001B[38;5;28mrange\u001B[39m(\u001B[38;5;241m0\u001B[39m, n, \u001B[38;5;241m1\u001B[39m)]\n\u001B[0;32m      6\u001B[0m y_nodes \u001B[38;5;241m=\u001B[39m [points[i][\u001B[38;5;241m1\u001B[39m] \u001B[38;5;241m*\u001B[39m \u001B[38;5;241m100\u001B[39m \u001B[38;5;28;01mfor\u001B[39;00m i \u001B[38;5;129;01min\u001B[39;00m \u001B[38;5;28mrange\u001B[39m(\u001B[38;5;241m0\u001B[39m, n, \u001B[38;5;241m1\u001B[39m)]\n\u001B[1;32m----> 8\u001B[0m \u001B[43mdata_plot_with_interpolant\u001B[49m\u001B[43m(\u001B[49m\u001B[43mx_nodes\u001B[49m\u001B[43m,\u001B[49m\u001B[43m \u001B[49m\u001B[43my_nodes\u001B[49m\u001B[43m,\u001B[49m\u001B[43m \u001B[49m\u001B[43msplain_3_interpolant\u001B[49m\u001B[43m)\u001B[49m\n",
      "Cell \u001B[1;32mIn[645], line 7\u001B[0m, in \u001B[0;36mdata_plot_with_interpolant\u001B[1;34m(x_nodes, y_nodes, method)\u001B[0m\n\u001B[0;32m      4\u001B[0m x_for_plotting \u001B[38;5;241m=\u001B[39m np\u001B[38;5;241m.\u001B[39marange(\u001B[38;5;28mmin\u001B[39m(x_nodes), \u001B[38;5;28mmax\u001B[39m(x_nodes), \u001B[38;5;241m0.0001\u001B[39m)\n\u001B[0;32m      5\u001B[0m ax\u001B[38;5;241m.\u001B[39mplot(x_nodes, y_nodes, \u001B[38;5;124m'\u001B[39m\u001B[38;5;124mro\u001B[39m\u001B[38;5;124m'\u001B[39m, markersize\u001B[38;5;241m=\u001B[39m\u001B[38;5;241m10\u001B[39m)\n\u001B[1;32m----> 7\u001B[0m points \u001B[38;5;241m=\u001B[39m \u001B[43mmethod\u001B[49m\u001B[43m(\u001B[49m\u001B[43mx_for_plotting\u001B[49m\u001B[43m,\u001B[49m\u001B[43m \u001B[49m\u001B[43mx_nodes\u001B[49m\u001B[43m,\u001B[49m\u001B[43m \u001B[49m\u001B[43my_nodes\u001B[49m\u001B[43m)\u001B[49m\n\u001B[0;32m      8\u001B[0m \u001B[38;5;28mprint\u001B[39m(points)\n\u001B[0;32m      9\u001B[0m x_points \u001B[38;5;241m=\u001B[39m \u001B[38;5;28mlist\u001B[39m(\u001B[38;5;28mmap\u001B[39m(\u001B[38;5;28;01mlambda\u001B[39;00m x: x[\u001B[38;5;241m0\u001B[39m], points))\n",
      "Cell \u001B[1;32mIn[644], line 38\u001B[0m, in \u001B[0;36msplain_3_interpolant\u001B[1;34m(x_points, x_nodes, y_nodes)\u001B[0m\n\u001B[0;32m     31\u001B[0m \u001B[38;5;66;03m# for point in x_points:\u001B[39;00m\n\u001B[0;32m     32\u001B[0m \u001B[38;5;66;03m#     for i in range(n):\u001B[39;00m\n\u001B[0;32m     33\u001B[0m \u001B[38;5;66;03m#         if (x_nodes[i] <= point <= x_nodes[i + 1]) or (x_nodes[i] >= point >= x_nodes[i + 1]):\u001B[39;00m\n\u001B[0;32m     34\u001B[0m \u001B[38;5;66;03m#             points.append((point, y_nodes[i] + b[i] * (point - x_nodes[i]) + c[i] * (point - x_nodes[i])**2 + d[i] * (point - x_nodes[i])**3))\u001B[39;00m\n\u001B[0;32m     35\u001B[0m \u001B[38;5;66;03m#             break\u001B[39;00m\n\u001B[0;32m     37\u001B[0m \u001B[38;5;28;01mfor\u001B[39;00m i \u001B[38;5;129;01min\u001B[39;00m \u001B[38;5;28mrange\u001B[39m(n):\n\u001B[1;32m---> 38\u001B[0m     \u001B[38;5;28;01mfor\u001B[39;00m point \u001B[38;5;129;01min\u001B[39;00m np\u001B[38;5;241m.\u001B[39marange(x_nodes[i], x_nodes[i \u001B[38;5;241m+\u001B[39m \u001B[38;5;241m1\u001B[39m], (x_nodes[i \u001B[38;5;241m+\u001B[39m \u001B[38;5;241m1\u001B[39m] \u001B[38;5;241m-\u001B[39m x_nodes[i]) \u001B[38;5;241m/\u001B[39m \u001B[38;5;241m100.\u001B[39m):\n\u001B[0;32m     39\u001B[0m         points\u001B[38;5;241m.\u001B[39mappend((point, y_nodes[i] \u001B[38;5;241m+\u001B[39m b[i] \u001B[38;5;241m*\u001B[39m (point \u001B[38;5;241m-\u001B[39m x_nodes[i]) \u001B[38;5;241m+\u001B[39m c[i] \u001B[38;5;241m*\u001B[39m (point \u001B[38;5;241m-\u001B[39m x_nodes[i])\u001B[38;5;241m*\u001B[39m\u001B[38;5;241m*\u001B[39m\u001B[38;5;241m2\u001B[39m \u001B[38;5;241m+\u001B[39m d[i] \u001B[38;5;241m*\u001B[39m (point \u001B[38;5;241m-\u001B[39m x_nodes[i])\u001B[38;5;241m*\u001B[39m\u001B[38;5;241m*\u001B[39m\u001B[38;5;241m3\u001B[39m))\n\u001B[0;32m     41\u001B[0m \u001B[38;5;28;01mreturn\u001B[39;00m points\n",
      "\u001B[1;31mZeroDivisionError\u001B[0m: float division by zero"
     ]
    },
    {
     "data": {
      "text/plain": "<Figure size 1200x600 with 1 Axes>",
      "image/png": "[encoded data removed]"
     },
     "metadata": {},
     "output_type": "display_data"
    }
   ],
   "source": [
    "lab1_base('contour.txt', 10, '')"
   ],
   "metadata": {
    "collapsed": false
   }
  },
  {
   "cell_type": "code",
   "execution_count": null,
   "outputs": [],
   "source": [],
   "metadata": {
    "collapsed": false
   }
  }
 ],
 "metadata": {
  "kernelspec": {
   "display_name": "Python 3",
   "language": "python",
   "name": "python3"
  },
  "language_info": {
   "codemirror_mode": {
    "name": "ipython",
    "version": 2
   },
   "file_extension": ".py",
   "mimetype": "text/x-python",
   "name": "python",
   "nbconvert_exporter": "python",
   "pygments_lexer": "ipython2",
   "version": "2.7.6"
  }
 },
 "nbformat": 4,
 "nbformat_minor": 0
}
