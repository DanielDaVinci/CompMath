{
 "cells": [
  {
   "cell_type": "markdown",
   "metadata": {},
   "source": [
    "Основы Python\n",
    "============="
   ]
  },
  {
   "cell_type": "markdown",
   "metadata": {},
   "source": [
    "# 1. Введение"
   ]
  },
  {
   "cell_type": "markdown",
   "metadata": {
    "collapsed": true
   },
   "source": [
    "## 1.1 Первая программа"
   ]
  },
  {
   "cell_type": "markdown",
   "metadata": {},
   "source": [
    "Во всех дальнейших примерах рассматривает синтаксис, соответствующий Python 3.x\n",
    "Простейшая программа:"
   ]
  },
  {
   "cell_type": "code",
   "execution_count": 41,
   "metadata": {
    "format": "row",
    "scrolled": true,
    "ExecuteTime": {
     "end_time": "2023-09-27T14:58:20.613316900Z",
     "start_time": "2023-09-27T14:58:19.094948100Z"
    }
   },
   "outputs": [
    {
     "name": "stdout",
     "output_type": "stream",
     "text": [
      "Hello World\n"
     ]
    }
   ],
   "source": [
    "print(\"Hello World\")"
   ]
  },
  {
   "cell_type": "markdown",
   "metadata": {},
   "source": [
    "Подсказка может быть выведена добавлением \"?\" после объекта"
   ]
  },
  {
   "cell_type": "code",
   "execution_count": 42,
   "metadata": {
    "format": "column",
    "scrolled": true,
    "ExecuteTime": {
     "end_time": "2023-09-27T14:58:20.830366100Z",
     "start_time": "2023-09-27T14:58:19.100443900Z"
    }
   },
   "outputs": [],
   "source": [
    "print?"
   ]
  },
  {
   "cell_type": "markdown",
   "metadata": {},
   "source": [
    "## 1.2 Комментарии"
   ]
  },
  {
   "cell_type": "markdown",
   "metadata": {},
   "source": [
    "Простейший inline комментарий создается с помощью символа `#`."
   ]
  },
  {
   "cell_type": "code",
   "execution_count": 43,
   "metadata": {
    "scrolled": false,
    "ExecuteTime": {
     "end_time": "2023-09-27T14:58:20.845369600Z",
     "start_time": "2023-09-27T14:58:19.117198200Z"
    }
   },
   "outputs": [],
   "source": [
    "# This is a comment"
   ]
  },
  {
   "cell_type": "markdown",
   "metadata": {},
   "source": [
    "## 1.3 Арифметические операции"
   ]
  },
  {
   "cell_type": "markdown",
   "metadata": {},
   "source": [
    "Python поддерживает все базовые операции: сложение (`+`), вычитание (`-`), произведение (`*`), деление (`/`) и возведение в степень (`**`)."
   ]
  },
  {
   "cell_type": "code",
   "execution_count": 44,
   "metadata": {
    "scrolled": true,
    "ExecuteTime": {
     "end_time": "2023-09-27T14:58:20.846369900Z",
     "start_time": "2023-09-27T14:58:19.119272100Z"
    }
   },
   "outputs": [
    {
     "data": {
      "text/plain": "110"
     },
     "execution_count": 44,
     "metadata": {},
     "output_type": "execute_result"
    }
   ],
   "source": [
    "100+10"
   ]
  },
  {
   "cell_type": "code",
   "execution_count": 45,
   "metadata": {
    "scrolled": true,
    "ExecuteTime": {
     "end_time": "2023-09-27T14:58:20.846369900Z",
     "start_time": "2023-09-27T14:58:19.124726400Z"
    }
   },
   "outputs": [
    {
     "data": {
      "text/plain": "23.5"
     },
     "execution_count": 45,
     "metadata": {},
     "output_type": "execute_result"
    }
   ],
   "source": [
    "25-1.5"
   ]
  },
  {
   "cell_type": "code",
   "execution_count": 46,
   "metadata": {
    "scrolled": true,
    "ExecuteTime": {
     "end_time": "2023-09-27T14:58:20.887378800Z",
     "start_time": "2023-09-27T14:58:19.127493400Z"
    }
   },
   "outputs": [
    {
     "data": {
      "text/plain": "15"
     },
     "execution_count": 46,
     "metadata": {},
     "output_type": "execute_result"
    }
   ],
   "source": [
    "3*5"
   ]
  },
  {
   "cell_type": "code",
   "execution_count": 47,
   "metadata": {
    "scrolled": true,
    "ExecuteTime": {
     "end_time": "2023-09-27T14:58:20.888379100Z",
     "start_time": "2023-09-27T14:58:19.132035200Z"
    }
   },
   "outputs": [
    {
     "data": {
      "text/plain": "5.0"
     },
     "execution_count": 47,
     "metadata": {},
     "output_type": "execute_result"
    }
   ],
   "source": [
    "10/2"
   ]
  },
  {
   "cell_type": "code",
   "execution_count": 48,
   "metadata": {
    "scrolled": true,
    "ExecuteTime": {
     "end_time": "2023-09-27T14:58:20.888379100Z",
     "start_time": "2023-09-27T14:58:19.134585600Z"
    }
   },
   "outputs": [
    {
     "data": {
      "text/plain": "8"
     },
     "execution_count": 48,
     "metadata": {},
     "output_type": "execute_result"
    }
   ],
   "source": [
    "2**3    # Some comment"
   ]
  },
  {
   "cell_type": "markdown",
   "metadata": {
    "collapsed": true
   },
   "source": [
    "# 2. Переменные и типы"
   ]
  },
  {
   "cell_type": "markdown",
   "metadata": {},
   "source": [
    "В Python переменные хранят ссылку на объект. Тип переменной определяется при ее определении (=> динамическая типизация), при этом отсутствуют неявные приведения типов (=> сильная типизация). "
   ]
  },
  {
   "cell_type": "markdown",
   "metadata": {},
   "source": [
    "## 2.1 Присваивание значений"
   ]
  },
  {
   "cell_type": "markdown",
   "metadata": {},
   "source": [
    "Присванивание происходит через оператор `=`:"
   ]
  },
  {
   "cell_type": "code",
   "execution_count": 49,
   "metadata": {
    "scrolled": true,
    "ExecuteTime": {
     "end_time": "2023-09-27T14:58:20.888379100Z",
     "start_time": "2023-09-27T14:58:19.139406600Z"
    }
   },
   "outputs": [
    {
     "name": "stdout",
     "output_type": "stream",
     "text": [
      "25.75\n"
     ]
    }
   ],
   "source": [
    "x = 25 + 3/4\n",
    "print(x)"
   ]
  },
  {
   "cell_type": "markdown",
   "metadata": {},
   "source": [
    "## 2.2 Числовые типы"
   ]
  },
  {
   "cell_type": "markdown",
   "metadata": {},
   "source": [
    "Базовые числовые типы Python: integer, float, complex и boolean:"
   ]
  },
  {
   "cell_type": "code",
   "execution_count": 50,
   "metadata": {
    "scrolled": false,
    "ExecuteTime": {
     "end_time": "2023-09-27T14:58:21.229222300Z",
     "start_time": "2023-09-27T14:58:19.151055700Z"
    }
   },
   "outputs": [],
   "source": [
    "a = 5"
   ]
  },
  {
   "cell_type": "code",
   "execution_count": 51,
   "metadata": {
    "scrolled": true,
    "ExecuteTime": {
     "end_time": "2023-09-27T14:58:21.230222600Z",
     "start_time": "2023-09-27T14:58:19.154806900Z"
    }
   },
   "outputs": [
    {
     "data": {
      "text/plain": "int"
     },
     "execution_count": 51,
     "metadata": {},
     "output_type": "execute_result"
    }
   ],
   "source": [
    "type(a)"
   ]
  },
  {
   "cell_type": "code",
   "execution_count": 52,
   "metadata": {
    "scrolled": false,
    "ExecuteTime": {
     "end_time": "2023-09-27T14:58:21.231222600Z",
     "start_time": "2023-09-27T14:58:19.158968500Z"
    }
   },
   "outputs": [],
   "source": [
    "b = 5.1"
   ]
  },
  {
   "cell_type": "code",
   "execution_count": 53,
   "metadata": {
    "scrolled": true,
    "ExecuteTime": {
     "end_time": "2023-09-27T14:58:21.231222600Z",
     "start_time": "2023-09-27T14:58:19.161986400Z"
    }
   },
   "outputs": [
    {
     "data": {
      "text/plain": "float"
     },
     "execution_count": 53,
     "metadata": {},
     "output_type": "execute_result"
    }
   ],
   "source": [
    "type(b)"
   ]
  },
  {
   "cell_type": "code",
   "execution_count": 54,
   "metadata": {
    "scrolled": false,
    "ExecuteTime": {
     "end_time": "2023-09-27T14:58:21.323243300Z",
     "start_time": "2023-09-27T14:58:19.164626300Z"
    }
   },
   "outputs": [],
   "source": [
    "c = 2.1 + 4.7j"
   ]
  },
  {
   "cell_type": "code",
   "execution_count": 55,
   "metadata": {
    "scrolled": true,
    "ExecuteTime": {
     "end_time": "2023-09-27T14:58:21.324243700Z",
     "start_time": "2023-09-27T14:58:19.167658Z"
    }
   },
   "outputs": [
    {
     "data": {
      "text/plain": "complex"
     },
     "execution_count": 55,
     "metadata": {},
     "output_type": "execute_result"
    }
   ],
   "source": [
    "type(c)"
   ]
  },
  {
   "cell_type": "code",
   "execution_count": 56,
   "metadata": {
    "scrolled": false,
    "ExecuteTime": {
     "end_time": "2023-09-27T14:58:21.324243700Z",
     "start_time": "2023-09-27T14:58:19.172274700Z"
    }
   },
   "outputs": [],
   "source": [
    "d = True"
   ]
  },
  {
   "cell_type": "code",
   "execution_count": 57,
   "metadata": {
    "scrolled": true,
    "ExecuteTime": {
     "end_time": "2023-09-27T14:58:21.324243700Z",
     "start_time": "2023-09-27T14:58:19.175257800Z"
    }
   },
   "outputs": [
    {
     "data": {
      "text/plain": "bool"
     },
     "execution_count": 57,
     "metadata": {},
     "output_type": "execute_result"
    }
   ],
   "source": [
    "type(d)"
   ]
  },
  {
   "cell_type": "markdown",
   "metadata": {},
   "source": [
    "### 2.2.1 Приведение типов"
   ]
  },
  {
   "cell_type": "markdown",
   "metadata": {},
   "source": [
    "Приведение типов должно происходить явно:"
   ]
  },
  {
   "cell_type": "code",
   "execution_count": 58,
   "metadata": {
    "scrolled": true,
    "ExecuteTime": {
     "end_time": "2023-09-27T14:58:21.324243700Z",
     "start_time": "2023-09-27T14:58:19.178632200Z"
    }
   },
   "outputs": [],
   "source": [
    "e = float(a)"
   ]
  },
  {
   "cell_type": "code",
   "execution_count": 59,
   "metadata": {
    "scrolled": true,
    "ExecuteTime": {
     "end_time": "2023-09-27T14:58:21.427266500Z",
     "start_time": "2023-09-27T14:58:19.181887400Z"
    }
   },
   "outputs": [
    {
     "name": "stdout",
     "output_type": "stream",
     "text": [
      "5 <class 'int'>\n",
      "5.0 <class 'float'>\n"
     ]
    }
   ],
   "source": [
    "print(a, type(a))\n",
    "print(e, type(e))"
   ]
  },
  {
   "cell_type": "markdown",
   "metadata": {},
   "source": [
    "### 2.2.2 Целочисленное деление"
   ]
  },
  {
   "cell_type": "markdown",
   "metadata": {},
   "source": [
    "Подобное деление происходит, когда оба числа являются целыми (так, например, было в Python 2.x). В Python 3 ситуация изменилась, и при делении целых чисел возвращается float:"
   ]
  },
  {
   "cell_type": "code",
   "execution_count": 60,
   "metadata": {
    "scrolled": true,
    "ExecuteTime": {
     "end_time": "2023-09-27T14:58:21.434268200Z",
     "start_time": "2023-09-27T14:58:19.184960Z"
    }
   },
   "outputs": [
    {
     "data": {
      "text/plain": "5.0"
     },
     "execution_count": 60,
     "metadata": {},
     "output_type": "execute_result"
    }
   ],
   "source": [
    "10/2"
   ]
  },
  {
   "cell_type": "code",
   "execution_count": 61,
   "metadata": {
    "scrolled": true,
    "ExecuteTime": {
     "end_time": "2023-09-27T14:58:21.469276400Z",
     "start_time": "2023-09-27T14:58:19.189375100Z"
    }
   },
   "outputs": [
    {
     "data": {
      "text/plain": "3.3333333333333335"
     },
     "execution_count": 61,
     "metadata": {},
     "output_type": "execute_result"
    }
   ],
   "source": [
    "10/3"
   ]
  },
  {
   "cell_type": "markdown",
   "metadata": {},
   "source": [
    "Целочисленное деление организуется оператором `//`:"
   ]
  },
  {
   "cell_type": "code",
   "execution_count": 62,
   "metadata": {
    "scrolled": true,
    "ExecuteTime": {
     "end_time": "2023-09-27T14:58:21.518286900Z",
     "start_time": "2023-09-27T14:58:19.194387700Z"
    }
   },
   "outputs": [
    {
     "data": {
      "text/plain": "5"
     },
     "execution_count": 62,
     "metadata": {},
     "output_type": "execute_result"
    }
   ],
   "source": [
    "10//2"
   ]
  },
  {
   "cell_type": "code",
   "execution_count": 63,
   "metadata": {
    "scrolled": true,
    "ExecuteTime": {
     "end_time": "2023-09-27T14:58:21.518286900Z",
     "start_time": "2023-09-27T14:58:19.197630600Z"
    }
   },
   "outputs": [
    {
     "data": {
      "text/plain": "3"
     },
     "execution_count": 63,
     "metadata": {},
     "output_type": "execute_result"
    }
   ],
   "source": [
    "10//3"
   ]
  },
  {
   "cell_type": "markdown",
   "metadata": {},
   "source": [
    "# 3. Структуры данных"
   ]
  },
  {
   "cell_type": "markdown",
   "metadata": {},
   "source": [
    "## 3.1 Списки"
   ]
  },
  {
   "cell_type": "markdown",
   "metadata": {},
   "source": [
    "Список в Python является упорядоченным, индексируемым и может содержать объекты произвольных типов:"
   ]
  },
  {
   "cell_type": "code",
   "execution_count": 64,
   "metadata": {
    "scrolled": false,
    "ExecuteTime": {
     "end_time": "2023-09-27T14:58:21.619309600Z",
     "start_time": "2023-09-27T14:58:19.219622300Z"
    }
   },
   "outputs": [],
   "source": [
    "L = ['red', 1, 'dog', 0.2, 2.14, 5]"
   ]
  },
  {
   "cell_type": "code",
   "execution_count": 65,
   "metadata": {
    "scrolled": true,
    "ExecuteTime": {
     "end_time": "2023-09-27T14:58:21.626310600Z",
     "start_time": "2023-09-27T14:58:19.222747200Z"
    }
   },
   "outputs": [
    {
     "data": {
      "text/plain": "list"
     },
     "execution_count": 65,
     "metadata": {},
     "output_type": "execute_result"
    }
   ],
   "source": [
    "type(L)"
   ]
  },
  {
   "cell_type": "markdown",
   "metadata": {},
   "source": [
    "Доступ к элементу по индексу:"
   ]
  },
  {
   "cell_type": "code",
   "execution_count": 66,
   "metadata": {
    "scrolled": true,
    "ExecuteTime": {
     "end_time": "2023-09-27T14:58:21.656318100Z",
     "start_time": "2023-09-27T14:58:19.227591600Z"
    }
   },
   "outputs": [
    {
     "data": {
      "text/plain": "'red'"
     },
     "execution_count": 66,
     "metadata": {},
     "output_type": "execute_result"
    }
   ],
   "source": [
    "L[0]"
   ]
  },
  {
   "cell_type": "markdown",
   "metadata": {},
   "source": [
    "Доступ к элементу может быть организован и с конца списка с помощью отрицательных индексов (концепция циклического массива):"
   ]
  },
  {
   "cell_type": "code",
   "execution_count": 67,
   "metadata": {
    "scrolled": true,
    "ExecuteTime": {
     "end_time": "2023-09-27T14:58:21.701328Z",
     "start_time": "2023-09-27T14:58:19.238429400Z"
    }
   },
   "outputs": [
    {
     "data": {
      "text/plain": "2.14"
     },
     "execution_count": 67,
     "metadata": {},
     "output_type": "execute_result"
    }
   ],
   "source": [
    "L[-2]"
   ]
  },
  {
   "cell_type": "markdown",
   "metadata": {},
   "source": [
    "Списки являются изменяемыми объектами -- их содержимое может быть изменено:"
   ]
  },
  {
   "cell_type": "code",
   "execution_count": 68,
   "metadata": {
    "scrolled": true,
    "ExecuteTime": {
     "end_time": "2023-09-27T14:58:21.747338200Z",
     "start_time": "2023-09-27T14:58:19.248138100Z"
    }
   },
   "outputs": [
    {
     "name": "stdout",
     "output_type": "stream",
     "text": [
      "['red', 3, 'dog', 0.2, 2.14, 5]\n"
     ]
    }
   ],
   "source": [
    "L[1] = 3\n",
    "print(L)"
   ]
  },
  {
   "cell_type": "markdown",
   "metadata": {},
   "source": [
    "Подсписок списка может быть получен оператором слайса: `L[start:stop:stride]`. Тогда подсписок содержит элементы, соответствующие $start \\le i < stop$. Все параметры слайса опциональные."
   ]
  },
  {
   "cell_type": "code",
   "execution_count": 69,
   "metadata": {
    "scrolled": true,
    "ExecuteTime": {
     "end_time": "2023-09-27T14:58:21.876367Z",
     "start_time": "2023-09-27T14:58:19.258629500Z"
    }
   },
   "outputs": [
    {
     "data": {
      "text/plain": "[3, 'dog']"
     },
     "execution_count": 69,
     "metadata": {},
     "output_type": "execute_result"
    }
   ],
   "source": [
    "L[1:3]"
   ]
  },
  {
   "cell_type": "code",
   "execution_count": 70,
   "metadata": {
    "scrolled": true,
    "ExecuteTime": {
     "end_time": "2023-09-27T14:58:21.925378100Z",
     "start_time": "2023-09-27T14:58:19.262800300Z"
    }
   },
   "outputs": [
    {
     "data": {
      "text/plain": "['red', 'dog', 2.14]"
     },
     "execution_count": 70,
     "metadata": {},
     "output_type": "execute_result"
    }
   ],
   "source": [
    "L[0:5:2]"
   ]
  },
  {
   "cell_type": "code",
   "execution_count": 71,
   "metadata": {
    "scrolled": true,
    "ExecuteTime": {
     "end_time": "2023-09-27T14:58:21.926378200Z",
     "start_time": "2023-09-27T14:58:19.266708900Z"
    }
   },
   "outputs": [
    {
     "data": {
      "text/plain": "['red', 3, 'dog']"
     },
     "execution_count": 71,
     "metadata": {},
     "output_type": "execute_result"
    }
   ],
   "source": [
    "L[:3]"
   ]
  },
  {
   "cell_type": "markdown",
   "metadata": {},
   "source": [
    "Пустой список создается с помощью `[]`"
   ]
  },
  {
   "cell_type": "code",
   "execution_count": 72,
   "metadata": {
    "scrolled": true,
    "ExecuteTime": {
     "end_time": "2023-09-27T14:58:21.926378200Z",
     "start_time": "2023-09-27T14:58:19.270348800Z"
    }
   },
   "outputs": [
    {
     "name": "stdout",
     "output_type": "stream",
     "text": [
      "<class 'list'>\n",
      "0\n"
     ]
    }
   ],
   "source": [
    "a = []\n",
    "print(type(a))\n",
    "print(len(a))"
   ]
  },
  {
   "cell_type": "markdown",
   "metadata": {},
   "source": [
    "Число элементов списка:"
   ]
  },
  {
   "cell_type": "code",
   "execution_count": 73,
   "metadata": {
    "scrolled": true,
    "ExecuteTime": {
     "end_time": "2023-09-27T14:58:21.961386500Z",
     "start_time": "2023-09-27T14:58:19.277493500Z"
    }
   },
   "outputs": [
    {
     "data": {
      "text/plain": "6"
     },
     "execution_count": 73,
     "metadata": {},
     "output_type": "execute_result"
    }
   ],
   "source": [
    "len(L)"
   ]
  },
  {
   "cell_type": "markdown",
   "metadata": {},
   "source": [
    "Расширение списка может происходит с помощью следующих операций: склеивание списков (оператор \"`+`\"), добавление элемента `e` в `i` позицию списка (`L.insert(i, e)`), добавление элемента в конец списка (`L.append(e)`), добавление всех элементов списка `L1` в конец списка `L` (`L.extend(L1)`)."
   ]
  },
  {
   "cell_type": "code",
   "execution_count": 74,
   "metadata": {
    "scrolled": true,
    "ExecuteTime": {
     "end_time": "2023-09-27T14:58:22.158430400Z",
     "start_time": "2023-09-27T14:58:19.289068700Z"
    }
   },
   "outputs": [
    {
     "name": "stdout",
     "output_type": "stream",
     "text": [
      "['red', 3, 'dog', 0.2, 2.14, 5, 1, True]\n"
     ]
    }
   ],
   "source": [
    "L = L + [1, True]\n",
    "print(L)"
   ]
  },
  {
   "cell_type": "code",
   "execution_count": 75,
   "metadata": {
    "scrolled": true,
    "ExecuteTime": {
     "end_time": "2023-09-27T14:58:22.158430400Z",
     "start_time": "2023-09-27T14:58:19.292244600Z"
    }
   },
   "outputs": [
    {
     "name": "stdout",
     "output_type": "stream",
     "text": [
      "['red', 3, (1+2j), 'dog', 0.2, 2.14, 5, 1, True]\n"
     ]
    }
   ],
   "source": [
    "L.insert(2, 1+2j)\n",
    "print(L)"
   ]
  },
  {
   "cell_type": "code",
   "execution_count": 76,
   "metadata": {
    "scrolled": true,
    "ExecuteTime": {
     "end_time": "2023-09-27T14:58:22.211441900Z",
     "start_time": "2023-09-27T14:58:19.295897900Z"
    }
   },
   "outputs": [
    {
     "name": "stdout",
     "output_type": "stream",
     "text": [
      "['red', 3, (1+2j), 'dog', 0.2, 2.14, 5, 1, True, [1, 2]]\n"
     ]
    }
   ],
   "source": [
    "L.append([1,2])\n",
    "print(L)\n"
   ]
  },
  {
   "cell_type": "code",
   "execution_count": 77,
   "metadata": {
    "scrolled": true,
    "ExecuteTime": {
     "end_time": "2023-09-27T14:58:22.211441900Z",
     "start_time": "2023-09-27T14:58:19.299130200Z"
    }
   },
   "outputs": [
    {
     "name": "stdout",
     "output_type": "stream",
     "text": [
      "['red', 3, (1+2j), 'dog', 0.2, 2.14, 5, 1, True, [1, 2], 3, 4]\n"
     ]
    }
   ],
   "source": [
    "L.extend([3,4])\n",
    "print(L)"
   ]
  },
  {
   "cell_type": "markdown",
   "metadata": {},
   "source": [
    "Удаление элемента:"
   ]
  },
  {
   "cell_type": "code",
   "execution_count": 78,
   "metadata": {
    "scrolled": true,
    "ExecuteTime": {
     "end_time": "2023-09-27T14:58:22.211441900Z",
     "start_time": "2023-09-27T14:58:19.302358800Z"
    }
   },
   "outputs": [
    {
     "name": "stdout",
     "output_type": "stream",
     "text": [
      "['red', 3, 'dog', 0.2, 2.14, 5, 1, True, [1, 2], 3, 4]\n"
     ]
    }
   ],
   "source": [
    "del L[2]\n",
    "print(L)"
   ]
  },
  {
   "cell_type": "markdown",
   "metadata": {},
   "source": [
    "## 3.2 Кортежи"
   ]
  },
  {
   "cell_type": "markdown",
   "metadata": {},
   "source": [
    "Кортежи являются неизменяемыми списками. Существует два способа создания кортежей:"
   ]
  },
  {
   "cell_type": "code",
   "execution_count": 79,
   "metadata": {
    "scrolled": true,
    "ExecuteTime": {
     "end_time": "2023-09-27T14:58:22.255452Z",
     "start_time": "2023-09-27T14:58:19.315710300Z"
    }
   },
   "outputs": [
    {
     "name": "stdout",
     "output_type": "stream",
     "text": [
      "<class 'tuple'> <class 'tuple'>\n"
     ]
    }
   ],
   "source": [
    "t = 'one', 'two', 'three'\n",
    "u = (1, 2, 3)\n",
    "print(type(t), type(u))"
   ]
  },
  {
   "cell_type": "markdown",
   "metadata": {},
   "source": [
    "Попытка изменить кортеж приводит к `TypeError`:"
   ]
  },
  {
   "cell_type": "code",
   "execution_count": 80,
   "metadata": {
    "scrolled": true,
    "ExecuteTime": {
     "end_time": "2023-09-27T14:58:22.468247100Z",
     "start_time": "2023-09-27T14:58:19.325429Z"
    }
   },
   "outputs": [
    {
     "ename": "TypeError",
     "evalue": "'tuple' object does not support item assignment",
     "output_type": "error",
     "traceback": [
      "\u001B[1;31m---------------------------------------------------------------------------\u001B[0m",
      "\u001B[1;31mTypeError\u001B[0m                                 Traceback (most recent call last)",
      "Cell \u001B[1;32mIn[80], line 1\u001B[0m\n\u001B[1;32m----> 1\u001B[0m \u001B[43mt\u001B[49m\u001B[43m[\u001B[49m\u001B[38;5;241;43m2\u001B[39;49m\u001B[43m]\u001B[49m \u001B[38;5;241m=\u001B[39m \u001B[38;5;124m'\u001B[39m\u001B[38;5;124mfour\u001B[39m\u001B[38;5;124m'\u001B[39m\n",
      "\u001B[1;31mTypeError\u001B[0m: 'tuple' object does not support item assignment"
     ]
    }
   ],
   "source": [
    "t[2] = 'four'"
   ]
  },
  {
   "cell_type": "markdown",
   "metadata": {},
   "source": [
    "## 3.3 Строки"
   ]
  },
  {
   "cell_type": "markdown",
   "metadata": {},
   "source": [
    "Строки так же являются неизменяемыми в Python. Существует несколько способов создания строк:"
   ]
  },
  {
   "cell_type": "code",
   "execution_count": null,
   "metadata": {
    "scrolled": true,
    "ExecuteTime": {
     "start_time": "2023-09-27T14:58:19.360056500Z"
    }
   },
   "outputs": [],
   "source": [
    "s1 = 'Hello there'\n",
    "s2 = \"How are you\"\n",
    "s3 = '''Hi,\n",
    "how do you do? '''      # Тройные ковычки позволяют писать на нескольких линиях\n",
    "print(s1)\n",
    "print(s2)\n",
    "print(s3)"
   ]
  },
  {
   "cell_type": "markdown",
   "metadata": {},
   "source": [
    "Строки поддерживают слайсинг:"
   ]
  },
  {
   "cell_type": "code",
   "execution_count": null,
   "metadata": {
    "scrolled": true,
    "ExecuteTime": {
     "start_time": "2023-09-27T14:58:19.362055700Z"
    }
   },
   "outputs": [],
   "source": [
    "s1[0]"
   ]
  },
  {
   "cell_type": "code",
   "execution_count": null,
   "metadata": {
    "scrolled": true,
    "ExecuteTime": {
     "start_time": "2023-09-27T14:58:19.363056Z"
    }
   },
   "outputs": [],
   "source": [
    "s2[:7]"
   ]
  },
  {
   "cell_type": "code",
   "execution_count": 81,
   "metadata": {
    "scrolled": true,
    "ExecuteTime": {
     "start_time": "2023-09-27T14:58:19.365057300Z"
    }
   },
   "outputs": [
    {
     "ename": "NameError",
     "evalue": "name 's1' is not defined",
     "output_type": "error",
     "traceback": [
      "\u001B[1;31m---------------------------------------------------------------------------\u001B[0m",
      "\u001B[1;31mNameError\u001B[0m                                 Traceback (most recent call last)",
      "Cell \u001B[1;32mIn[81], line 1\u001B[0m\n\u001B[1;32m----> 1\u001B[0m \u001B[43ms1\u001B[49m[\u001B[38;5;241m1\u001B[39m::\u001B[38;5;241m2\u001B[39m] \u001B[38;5;66;03m# каждый второй символ, начиная со второго символа\u001B[39;00m\n",
      "\u001B[1;31mNameError\u001B[0m: name 's1' is not defined"
     ]
    }
   ],
   "source": [
    "s1[1::2] # каждый второй символ, начиная со второго символа"
   ]
  },
  {
   "cell_type": "markdown",
   "metadata": {},
   "source": [
    "### 3.3.1 Форматированные строки"
   ]
  },
  {
   "cell_type": "markdown",
   "metadata": {},
   "source": [
    "Форматирование строки в Python 3.x производится с помощью `{}` и фунции `format()`. Вместо `{}` подставляются значений, переданные в `format()`:"
   ]
  },
  {
   "cell_type": "code",
   "execution_count": 82,
   "metadata": {
    "scrolled": true,
    "ExecuteTime": {
     "end_time": "2023-09-27T14:58:22.507256200Z",
     "start_time": "2023-09-27T14:58:19.379296800Z"
    }
   },
   "outputs": [
    {
     "data": {
      "text/plain": "\"Omar's password is 1234\""
     },
     "execution_count": 82,
     "metadata": {},
     "output_type": "execute_result"
    }
   ],
   "source": [
    "username = 'Omar'\n",
    "password = '1234'\n",
    "\"{}'s password is {}\".format(username, password)"
   ]
  },
  {
   "cell_type": "markdown",
   "metadata": {},
   "source": [
    "Такой стиль форматирования поддерживает спецификаторы в `printf()` стиле. Спецификатор начинается с двоеточия (:). В примере ниже \".2\" означает, что две цифры после запятой будут выведены на экран, в то время как \"f\" означает формат представления с фиксированной запятой."
   ]
  },
  {
   "cell_type": "code",
   "execution_count": 83,
   "metadata": {
    "scrolled": true,
    "ExecuteTime": {
     "end_time": "2023-09-27T14:58:22.540263700Z",
     "start_time": "2023-09-27T14:58:19.388877600Z"
    }
   },
   "outputs": [
    {
     "data": {
      "text/plain": "'1000000 bytes are approximately 976.56 kB'"
     },
     "execution_count": 83,
     "metadata": {},
     "output_type": "execute_result"
    }
   ],
   "source": [
    "'1000000 bytes are approximately {:.2f} kB'.format(1000000/1024)"
   ]
  },
  {
   "cell_type": "markdown",
   "metadata": {},
   "source": [
    "## 3.4 Словари"
   ]
  },
  {
   "cell_type": "markdown",
   "metadata": {},
   "source": [
    "Словарь в Python является неупорядоченным контейнером пар key-value, где осуществляется эффективный доступ к value по key.\n",
    "Пустой словарь может быть создан с помощью `{}` или `dict()`:"
   ]
  },
  {
   "cell_type": "code",
   "execution_count": 84,
   "metadata": {
    "scrolled": true,
    "ExecuteTime": {
     "end_time": "2023-09-27T14:58:22.745309900Z",
     "start_time": "2023-09-27T14:58:19.406791600Z"
    }
   },
   "outputs": [
    {
     "data": {
      "text/plain": "dict"
     },
     "execution_count": 84,
     "metadata": {},
     "output_type": "execute_result"
    }
   ],
   "source": [
    "d = {}\n",
    "type(d)"
   ]
  },
  {
   "cell_type": "code",
   "execution_count": 85,
   "metadata": {
    "scrolled": true,
    "ExecuteTime": {
     "end_time": "2023-09-27T14:58:22.745309900Z",
     "start_time": "2023-09-27T14:58:19.411343100Z"
    }
   },
   "outputs": [
    {
     "data": {
      "text/plain": "0"
     },
     "execution_count": 85,
     "metadata": {},
     "output_type": "execute_result"
    }
   ],
   "source": [
    "len(d)"
   ]
  },
  {
   "cell_type": "code",
   "execution_count": 86,
   "metadata": {
    "scrolled": true,
    "ExecuteTime": {
     "end_time": "2023-09-27T14:58:22.780317500Z",
     "start_time": "2023-09-27T14:58:19.416125400Z"
    }
   },
   "outputs": [
    {
     "data": {
      "text/plain": "dict"
     },
     "execution_count": 86,
     "metadata": {},
     "output_type": "execute_result"
    }
   ],
   "source": [
    "d = dict()\n",
    "type(d)"
   ]
  },
  {
   "cell_type": "code",
   "execution_count": 87,
   "metadata": {
    "scrolled": true,
    "ExecuteTime": {
     "end_time": "2023-09-27T14:58:22.780317500Z",
     "start_time": "2023-09-27T14:58:19.420677200Z"
    }
   },
   "outputs": [
    {
     "name": "stdout",
     "output_type": "stream",
     "text": [
      "{}\n"
     ]
    }
   ],
   "source": [
    "print(d)"
   ]
  },
  {
   "cell_type": "markdown",
   "metadata": {},
   "source": [
    "Добавление пар key-value:"
   ]
  },
  {
   "cell_type": "code",
   "execution_count": 88,
   "metadata": {
    "scrolled": true,
    "ExecuteTime": {
     "end_time": "2023-09-27T14:58:22.781317600Z",
     "start_time": "2023-09-27T14:58:19.425553800Z"
    }
   },
   "outputs": [
    {
     "name": "stdout",
     "output_type": "stream",
     "text": [
      "{'elements': (3, 4), 'nodes': (10, 11, 12, 13)}\n"
     ]
    }
   ],
   "source": [
    "d = {}\n",
    "d['elements'] = (3, 4)\n",
    "d['nodes'] = (10, 11, 12, 13)\n",
    "print(d)"
   ]
  },
  {
   "cell_type": "markdown",
   "metadata": {},
   "source": [
    "Наполнение словаря при создании:"
   ]
  },
  {
   "cell_type": "code",
   "execution_count": 89,
   "metadata": {
    "scrolled": true,
    "ExecuteTime": {
     "end_time": "2023-09-27T14:58:22.898343700Z",
     "start_time": "2023-09-27T14:58:19.433963Z"
    }
   },
   "outputs": [
    {
     "name": "stdout",
     "output_type": "stream",
     "text": [
      "{'elements': (3, 4), 'nodes': (10, 11, 12, 13)}\n"
     ]
    }
   ],
   "source": [
    "d1 = {'elements': (1, 2), 'nodes': (1, 2, 3, 4)}\n",
    "print(d)"
   ]
  },
  {
   "cell_type": "code",
   "execution_count": 90,
   "metadata": {
    "scrolled": true,
    "ExecuteTime": {
     "end_time": "2023-09-27T14:58:22.899344100Z",
     "start_time": "2023-09-27T14:58:19.436951Z"
    }
   },
   "outputs": [
    {
     "data": {
      "text/plain": "(1, 2)"
     },
     "execution_count": 90,
     "metadata": {},
     "output_type": "execute_result"
    }
   ],
   "source": [
    "d1['elements']"
   ]
  },
  {
   "cell_type": "code",
   "execution_count": 91,
   "metadata": {
    "scrolled": true,
    "ExecuteTime": {
     "end_time": "2023-09-27T14:58:23.020371100Z",
     "start_time": "2023-09-27T14:58:19.441494800Z"
    }
   },
   "outputs": [
    {
     "data": {
      "text/plain": "(1, 2, 3, 4)"
     },
     "execution_count": 91,
     "metadata": {},
     "output_type": "execute_result"
    }
   ],
   "source": [
    "d1['nodes']"
   ]
  },
  {
   "cell_type": "markdown",
   "metadata": {},
   "source": [
    "Список ключей key, значений value и пар (key, value) может быть получен с помощью методов `keys()`, `values()`, `items()`:"
   ]
  },
  {
   "cell_type": "code",
   "execution_count": 92,
   "metadata": {
    "scrolled": true,
    "ExecuteTime": {
     "end_time": "2023-09-27T14:58:23.021371400Z",
     "start_time": "2023-09-27T14:58:19.449094400Z"
    }
   },
   "outputs": [
    {
     "data": {
      "text/plain": "dict_keys(['elements', 'nodes'])"
     },
     "execution_count": 92,
     "metadata": {},
     "output_type": "execute_result"
    }
   ],
   "source": [
    "d.keys()"
   ]
  },
  {
   "cell_type": "code",
   "execution_count": 93,
   "metadata": {
    "scrolled": true,
    "ExecuteTime": {
     "end_time": "2023-09-27T14:58:23.021371400Z",
     "start_time": "2023-09-27T14:58:19.453355300Z"
    }
   },
   "outputs": [
    {
     "data": {
      "text/plain": "dict_values([(3, 4), (10, 11, 12, 13)])"
     },
     "execution_count": 93,
     "metadata": {},
     "output_type": "execute_result"
    }
   ],
   "source": [
    "d.values()"
   ]
  },
  {
   "cell_type": "code",
   "execution_count": 94,
   "metadata": {
    "scrolled": true,
    "ExecuteTime": {
     "end_time": "2023-09-27T14:58:23.021371400Z",
     "start_time": "2023-09-27T14:58:19.457650400Z"
    }
   },
   "outputs": [
    {
     "data": {
      "text/plain": "dict_items([('elements', (3, 4)), ('nodes', (10, 11, 12, 13))])"
     },
     "execution_count": 94,
     "metadata": {},
     "output_type": "execute_result"
    }
   ],
   "source": [
    "d.items()"
   ]
  },
  {
   "cell_type": "markdown",
   "metadata": {},
   "source": [
    "## 3.5 Особенности присваивания"
   ]
  },
  {
   "cell_type": "markdown",
   "metadata": {},
   "source": [
    "Оператор присваивания (`=`) используется, чтобы привязать имя переменной к объекту. Очевидно, несколько имен может быть привязано к одному и тому же объекту:"
   ]
  },
  {
   "cell_type": "code",
   "execution_count": 95,
   "metadata": {
    "scrolled": true,
    "ExecuteTime": {
     "end_time": "2023-09-27T14:58:23.140398Z",
     "start_time": "2023-09-27T14:58:19.467622600Z"
    }
   },
   "outputs": [
    {
     "name": "stdout",
     "output_type": "stream",
     "text": [
      "a =  ['a', 'b', 'c', 'd']\n",
      "b =  ['a', 'b', 'c', 'd']\n"
     ]
    }
   ],
   "source": [
    "a = ['a', 'b', 'c', 'd']\n",
    "b = a\n",
    "print('a = ', a)\n",
    "print('b = ', b)"
   ]
  },
  {
   "cell_type": "code",
   "execution_count": 96,
   "metadata": {
    "scrolled": true,
    "ExecuteTime": {
     "end_time": "2023-09-27T14:58:23.141398200Z",
     "start_time": "2023-09-27T14:58:19.472365600Z"
    }
   },
   "outputs": [
    {
     "data": {
      "text/plain": "True"
     },
     "execution_count": 96,
     "metadata": {},
     "output_type": "execute_result"
    }
   ],
   "source": [
    "b == a"
   ]
  },
  {
   "cell_type": "code",
   "execution_count": 97,
   "metadata": {
    "scrolled": true,
    "ExecuteTime": {
     "end_time": "2023-09-27T14:58:23.181407200Z",
     "start_time": "2023-09-27T14:58:19.476739600Z"
    }
   },
   "outputs": [
    {
     "data": {
      "text/plain": "True"
     },
     "execution_count": 97,
     "metadata": {},
     "output_type": "execute_result"
    }
   ],
   "source": [
    "b is a"
   ]
  },
  {
   "cell_type": "markdown",
   "metadata": {},
   "source": [
    "В Python существует два типа копирования: поверхностное копирование (shallow copy) и глубокое копирование (deep copy). Поверхностное копирование создает новый объект, но его элементы будут ссылками на оригинальный объект.\n",
    "В данном случае объекты ссылаются на одну и ту же область памяти, что проверяется функцией `id()`."
   ]
  },
  {
   "cell_type": "code",
   "execution_count": 98,
   "metadata": {
    "scrolled": true,
    "ExecuteTime": {
     "end_time": "2023-09-27T14:58:23.181407200Z",
     "start_time": "2023-09-27T14:58:19.480844700Z"
    }
   },
   "outputs": [
    {
     "name": "stdout",
     "output_type": "stream",
     "text": [
      "[1, 2, 3, 4]\n",
      "[1, 2, 3, 4]\n",
      "2280529119808 2280529119488\n"
     ]
    }
   ],
   "source": [
    "import copy\n",
    "b = [1, 2, 3, 4]\n",
    "a = copy.copy(b)\n",
    "print(a)\n",
    "print(b)\n",
    "print(id(a), id(b))"
   ]
  },
  {
   "cell_type": "markdown",
   "metadata": {},
   "source": [
    "Убедимся, что при обычном присваивании переменные ссылаются на один и тот же объект:"
   ]
  },
  {
   "cell_type": "code",
   "execution_count": 99,
   "metadata": {
    "scrolled": true,
    "ExecuteTime": {
     "end_time": "2023-09-27T14:58:23.261425300Z",
     "start_time": "2023-09-27T14:58:19.491158900Z"
    }
   },
   "outputs": [
    {
     "name": "stdout",
     "output_type": "stream",
     "text": [
      "[1, 2, 3, 4]\n",
      "[1, 2, 3, 4]\n",
      "2280529205952 2280529205952\n"
     ]
    }
   ],
   "source": [
    "b = [1, 2, 3, 4]\n",
    "a = b\n",
    "print(a)\n",
    "print(b)\n",
    "print(id(a), id(b))"
   ]
  },
  {
   "cell_type": "code",
   "execution_count": 100,
   "metadata": {
    "scrolled": true,
    "ExecuteTime": {
     "end_time": "2023-09-27T14:58:23.261425300Z",
     "start_time": "2023-09-27T14:58:19.494867500Z"
    }
   },
   "outputs": [
    {
     "name": "stdout",
     "output_type": "stream",
     "text": [
      "[9, 2, 3, 4]\n",
      "[9, 2, 3, 4]\n"
     ]
    }
   ],
   "source": [
    "a[0] = 9\n",
    "print(a)\n",
    "print(b)"
   ]
  },
  {
   "cell_type": "markdown",
   "metadata": {},
   "source": [
    "При слайсинге происходит поверхностное копирование:"
   ]
  },
  {
   "cell_type": "code",
   "execution_count": 101,
   "metadata": {
    "scrolled": true,
    "ExecuteTime": {
     "end_time": "2023-09-27T14:58:23.332264700Z",
     "start_time": "2023-09-27T14:58:19.503177200Z"
    }
   },
   "outputs": [
    {
     "name": "stdout",
     "output_type": "stream",
     "text": [
      "b =  ['a', 'x', 'c', 'd']\n",
      "a =  ['a', 'b', 'c', 'd']\n",
      "2280529119360 2280519112640\n"
     ]
    },
    {
     "data": {
      "text/plain": "False"
     },
     "execution_count": 101,
     "metadata": {},
     "output_type": "execute_result"
    }
   ],
   "source": [
    "a = ['a', 'b', 'c', 'd']\n",
    "b = a[:]\n",
    "b[1] = 'x'\n",
    "print('b = ', b)\n",
    "print('a = ', a)\n",
    "print(id(a), id(b)) \n",
    "b is a"
   ]
  },
  {
   "cell_type": "markdown",
   "metadata": {},
   "source": [
    "В случае вложенных элементов поверхностное копирование дает о себе знать:"
   ]
  },
  {
   "cell_type": "code",
   "execution_count": 102,
   "metadata": {
    "scrolled": true,
    "ExecuteTime": {
     "end_time": "2023-09-27T14:58:23.367272600Z",
     "start_time": "2023-09-27T14:58:19.515922800Z"
    }
   },
   "outputs": [
    {
     "name": "stdout",
     "output_type": "stream",
     "text": [
      "a =  [1, 2, [3, 4], 100]\n",
      "b =  [1, 2, [3, 4]]\n",
      "a =  [-99, 2, [3, -100], 100]\n",
      "b =  [1, 2, [3, -100]]\n"
     ]
    },
    {
     "data": {
      "text/plain": "False"
     },
     "execution_count": 102,
     "metadata": {},
     "output_type": "execute_result"
    }
   ],
   "source": [
    "b = [1, 2, [3, 4]]\n",
    "a = b[:]          # Создаем поверхностная копия b.\n",
    "a.append(100)     # Добавляем элемент в a.\n",
    "print('a = ', a)\n",
    "print('b = ', b)  # b не изменился.\n",
    "a[0] = -99        # Меняем 0-ой элемент a.\n",
    "a[2][1] = -100    # Меняем вложенный элемент a.\n",
    "print('a = ', a)  # В a изменились оба элемента\n",
    "print('b = ', b)  # Только вложенный элемент изменился в b.\n",
    "b is a"
   ]
  },
  {
   "cell_type": "markdown",
   "metadata": {},
   "source": [
    "Глубокая копия создает новый объект и рекурсивно копирует все внутренние элементы и объекты. Глубокая копия создается с помощью `deepcopy()` из модуля copy:"
   ]
  },
  {
   "cell_type": "code",
   "execution_count": 103,
   "metadata": {
    "scrolled": true,
    "ExecuteTime": {
     "end_time": "2023-09-27T14:58:23.424285200Z",
     "start_time": "2023-09-27T14:58:19.526002300Z"
    }
   },
   "outputs": [
    {
     "name": "stdout",
     "output_type": "stream",
     "text": [
      "a =  ['c', 'b', ['ab', 'ba']]\n",
      "b =  ['a', 'b', ['ab', 'd']]\n"
     ]
    }
   ],
   "source": [
    "from copy import deepcopy\n",
    "a = ['a','b',['ab','ba']]\n",
    "b = deepcopy(a)\n",
    "b[2][1] = \"d\"              # Изменяем значение во вложенном элементе в b\n",
    "a[0] = \"c\"                 # Изменяем 0-ое значение в a\n",
    "print('a = ', a)           # Только 0-ое значение изменилось\n",
    "print('b = ', b)           # Только элемент во вложенном элементе изменился"
   ]
  },
  {
   "cell_type": "markdown",
   "metadata": {},
   "source": [
    "# 4. Управляющие конструкции"
   ]
  },
  {
   "cell_type": "markdown",
   "metadata": {},
   "source": [
    "## 4.1 if/elif/else"
   ]
  },
  {
   "cell_type": "code",
   "execution_count": 104,
   "metadata": {
    "scrolled": true,
    "ExecuteTime": {
     "end_time": "2023-09-27T14:58:23.470295100Z",
     "start_time": "2023-09-27T14:58:19.545121200Z"
    }
   },
   "outputs": [
    {
     "name": "stdout",
     "output_type": "stream",
     "text": [
      "Obvious!\n"
     ]
    }
   ],
   "source": [
    "if True:\n",
    "    print(\"Obvious!\")"
   ]
  },
  {
   "cell_type": "markdown",
   "metadata": {},
   "source": [
    "По конвенции, блоки отделяются 4 пробелами:"
   ]
  },
  {
   "cell_type": "code",
   "execution_count": 105,
   "metadata": {
    "scrolled": true,
    "ExecuteTime": {
     "end_time": "2023-09-27T14:58:23.511304900Z",
     "start_time": "2023-09-27T14:58:19.555031Z"
    }
   },
   "outputs": [
    {
     "name": "stdout",
     "output_type": "stream",
     "text": [
      "A lot\n"
     ]
    }
   ],
   "source": [
    "a = 10\n",
    "if a == 1:\n",
    "    print(1)\n",
    "elif a == 2:\n",
    "    print(2)\n",
    "else:\n",
    "    print('A lot')"
   ]
  },
  {
   "cell_type": "markdown",
   "metadata": {},
   "source": [
    "### 4.1.1 Булевские выражение"
   ]
  },
  {
   "cell_type": "markdown",
   "metadata": {},
   "source": [
    " Операторы сравнения:\n",
    "* C == 40 # C равно 40\n",
    "* C != 40 # C не равно 40\n",
    "* C >= 40 # C больше или равно 40\n",
    "* C > 40 # C больше 40\n",
    "* C < 40 # C меньше 40\n",
    "\n",
    "Также булевские операторы могут быть использованы:\n",
    "* not\n",
    "* and\n",
    "* or"
   ]
  },
  {
   "cell_type": "markdown",
   "metadata": {},
   "source": [
    "Следующие объекты интерпретируются как False:\n",
    "* нули (0, 0.0, 0+0j)\n",
    "* пустые контейнеры (list, tuple, set, dictionary, ...)\n",
    "* **False**, **None**\n",
    "\n",
    "Все остальное интерпретируется как True.\n",
    "\n"
   ]
  },
  {
   "cell_type": "code",
   "execution_count": 106,
   "metadata": {
    "scrolled": true,
    "ExecuteTime": {
     "end_time": "2023-09-27T14:58:23.592322800Z",
     "start_time": "2023-09-27T14:58:19.634540500Z"
    }
   },
   "outputs": [
    {
     "name": "stdout",
     "output_type": "stream",
     "text": [
      "Dictionary is empty\n"
     ]
    }
   ],
   "source": [
    "dict = {}\n",
    "if dict:\n",
    "    print('Dictionary is not empty')\n",
    "else:\n",
    "    print('Dictionary is empty')"
   ]
  },
  {
   "cell_type": "code",
   "execution_count": 107,
   "metadata": {
    "scrolled": true,
    "ExecuteTime": {
     "end_time": "2023-09-27T14:58:23.592322800Z",
     "start_time": "2023-09-27T14:58:19.639080800Z"
    }
   },
   "outputs": [
    {
     "name": "stdout",
     "output_type": "stream",
     "text": [
      "1\n"
     ]
    }
   ],
   "source": [
    "a = 1\n",
    "if a:\n",
    "    print(a)"
   ]
  },
  {
   "cell_type": "markdown",
   "metadata": {},
   "source": [
    "Проверка равенства: **a == b**"
   ]
  },
  {
   "cell_type": "code",
   "execution_count": 108,
   "metadata": {
    "scrolled": true,
    "ExecuteTime": {
     "end_time": "2023-09-27T14:58:23.641333900Z",
     "start_time": "2023-09-27T14:58:19.649556300Z"
    }
   },
   "outputs": [
    {
     "data": {
      "text/plain": "True"
     },
     "execution_count": 108,
     "metadata": {},
     "output_type": "execute_result"
    }
   ],
   "source": [
    "1 == 1."
   ]
  },
  {
   "cell_type": "markdown",
   "metadata": {},
   "source": [
    "Проверка идентичности объектов: **a is b**"
   ]
  },
  {
   "cell_type": "code",
   "execution_count": 109,
   "metadata": {
    "scrolled": true,
    "ExecuteTime": {
     "end_time": "2023-09-27T14:58:23.723352200Z",
     "start_time": "2023-09-27T14:58:19.660479300Z"
    }
   },
   "outputs": [
    {
     "name": "stderr",
     "output_type": "stream",
     "text": [
      "<>:1: SyntaxWarning: \"is\" with a literal. Did you mean \"==\"?\n",
      "<>:1: SyntaxWarning: \"is\" with a literal. Did you mean \"==\"?\n",
      "C:\\Users\\Demos\\AppData\\Local\\Temp\\ipykernel_1904\\1066178220.py:1: SyntaxWarning: \"is\" with a literal. Did you mean \"==\"?\n",
      "  1 is 1.\n"
     ]
    },
    {
     "data": {
      "text/plain": "False"
     },
     "execution_count": 109,
     "metadata": {},
     "output_type": "execute_result"
    }
   ],
   "source": [
    "1 is 1."
   ]
  },
  {
   "cell_type": "code",
   "execution_count": 110,
   "metadata": {
    "scrolled": true,
    "ExecuteTime": {
     "end_time": "2023-09-27T14:58:23.816372800Z",
     "start_time": "2023-09-27T14:58:19.664606300Z"
    }
   },
   "outputs": [
    {
     "data": {
      "text/plain": "True"
     },
     "execution_count": 110,
     "metadata": {},
     "output_type": "execute_result"
    }
   ],
   "source": [
    "a = 1\n",
    "b = 1\n",
    "a is b"
   ]
  },
  {
   "cell_type": "markdown",
   "metadata": {},
   "source": [
    "Проверка вхождения элемента a в список b: **a in b**"
   ]
  },
  {
   "cell_type": "code",
   "execution_count": 111,
   "metadata": {
    "scrolled": true,
    "ExecuteTime": {
     "end_time": "2023-09-27T14:58:23.817373100Z",
     "start_time": "2023-09-27T14:58:19.672496800Z"
    }
   },
   "outputs": [
    {
     "data": {
      "text/plain": "True"
     },
     "execution_count": 111,
     "metadata": {},
     "output_type": "execute_result"
    }
   ],
   "source": [
    "b = [1,2,3]\n",
    "2 in b"
   ]
  },
  {
   "cell_type": "code",
   "execution_count": 112,
   "metadata": {
    "scrolled": true,
    "ExecuteTime": {
     "end_time": "2023-09-27T14:58:23.817373100Z",
     "start_time": "2023-09-27T14:58:19.675698100Z"
    }
   },
   "outputs": [
    {
     "data": {
      "text/plain": "False"
     },
     "execution_count": 112,
     "metadata": {},
     "output_type": "execute_result"
    }
   ],
   "source": [
    "5 in b"
   ]
  },
  {
   "cell_type": "markdown",
   "metadata": {},
   "source": [
    "## 4.2 Циклы"
   ]
  },
  {
   "cell_type": "markdown",
   "metadata": {},
   "source": [
    "### 4.2.1 for"
   ]
  },
  {
   "cell_type": "markdown",
   "metadata": {},
   "source": [
    "Итерации по индексу организуются с помощью **for**/**range**:\n"
   ]
  },
  {
   "cell_type": "code",
   "execution_count": 113,
   "metadata": {
    "scrolled": true,
    "ExecuteTime": {
     "end_time": "2023-09-27T14:58:23.963405700Z",
     "start_time": "2023-09-27T14:58:19.706617900Z"
    }
   },
   "outputs": [
    {
     "name": "stdout",
     "output_type": "stream",
     "text": [
      "0\n",
      "1\n",
      "2\n",
      "3\n"
     ]
    }
   ],
   "source": [
    "for i in range(4):\n",
    "    print(i)"
   ]
  },
  {
   "cell_type": "code",
   "execution_count": 114,
   "metadata": {
    "scrolled": true,
    "ExecuteTime": {
     "end_time": "2023-09-27T14:58:23.963405700Z",
     "start_time": "2023-09-27T14:58:19.710724100Z"
    }
   },
   "outputs": [
    {
     "name": "stdout",
     "output_type": "stream",
     "text": [
      "0 1 2 3 "
     ]
    }
   ],
   "source": [
    "for i in range(4):\n",
    "    print(i, end=' ')"
   ]
  },
  {
   "cell_type": "code",
   "execution_count": 115,
   "metadata": {
    "scrolled": true,
    "ExecuteTime": {
     "end_time": "2023-09-27T14:58:23.997413200Z",
     "start_time": "2023-09-27T14:58:19.714929600Z"
    }
   },
   "outputs": [
    {
     "name": "stdout",
     "output_type": "stream",
     "text": [
      "Python is cool\n",
      "Python is powerful\n",
      "Python is readable\n"
     ]
    }
   ],
   "source": [
    "a_list = ['cool', 'powerful', 'readable']\n",
    "for i in range(len(a_list)):\n",
    "    print('Python is {}'.format(a_list[i]))"
   ]
  },
  {
   "cell_type": "markdown",
   "metadata": {},
   "source": [
    "Python, однако, поддерживает итерации сразу по элементам контейнера:"
   ]
  },
  {
   "cell_type": "code",
   "execution_count": 116,
   "metadata": {
    "scrolled": true,
    "ExecuteTime": {
     "end_time": "2023-09-27T14:58:23.997413200Z",
     "start_time": "2023-09-27T14:58:19.718507400Z"
    }
   },
   "outputs": [
    {
     "name": "stdout",
     "output_type": "stream",
     "text": [
      "Python is cool\n",
      "Python is powerful\n",
      "Python is readable\n"
     ]
    }
   ],
   "source": [
    "a_list = ['cool', 'powerful', 'readable']\n",
    "for word in a_list:\n",
    "    print('Python is %s' % word)"
   ]
  },
  {
   "cell_type": "markdown",
   "metadata": {},
   "source": [
    "### 4.2.2 while"
   ]
  },
  {
   "cell_type": "code",
   "execution_count": 117,
   "metadata": {
    "scrolled": false,
    "ExecuteTime": {
     "end_time": "2023-09-27T14:58:24.125442200Z",
     "start_time": "2023-09-27T14:58:19.733818500Z"
    }
   },
   "outputs": [],
   "source": [
    "z = 1+1j"
   ]
  },
  {
   "cell_type": "code",
   "execution_count": 118,
   "metadata": {
    "scrolled": true,
    "ExecuteTime": {
     "end_time": "2023-09-27T14:58:24.140446Z",
     "start_time": "2023-09-27T14:58:19.738418700Z"
    }
   },
   "outputs": [
    {
     "name": "stdout",
     "output_type": "stream",
     "text": [
      "(1+1j)\n",
      "(1+2j)\n",
      "(-2+4j)\n",
      "(-11-16j)\n"
     ]
    }
   ],
   "source": [
    "while abs(z) < 100:\n",
    "    print(z)\n",
    "    z = z**2 + 1"
   ]
  },
  {
   "cell_type": "code",
   "execution_count": 119,
   "metadata": {
    "scrolled": true,
    "ExecuteTime": {
     "end_time": "2023-09-27T14:58:24.202459200Z",
     "start_time": "2023-09-27T14:58:19.742746700Z"
    }
   },
   "outputs": [
    {
     "data": {
      "text/plain": "((-134+352j), 376.64306710730784)"
     },
     "execution_count": 119,
     "metadata": {},
     "output_type": "execute_result"
    }
   ],
   "source": [
    "z, abs(z)"
   ]
  },
  {
   "cell_type": "markdown",
   "metadata": {},
   "source": [
    "### 4.2.3 Break для for/while:"
   ]
  },
  {
   "cell_type": "code",
   "execution_count": 120,
   "metadata": {
    "scrolled": true,
    "ExecuteTime": {
     "end_time": "2023-09-27T14:58:24.202459200Z",
     "start_time": "2023-09-27T14:58:19.747999100Z"
    }
   },
   "outputs": [
    {
     "name": "stdout",
     "output_type": "stream",
     "text": [
      "(1+1j) 1.0 1.4142135623730951\n",
      "(1+2j) 2.0 2.23606797749979\n",
      "(-2+4j) 4.0 4.47213595499958\n"
     ]
    }
   ],
   "source": [
    "z = 1+1j\n",
    "while abs(z) < 100:\n",
    "    print(z, z.imag, abs(z))\n",
    "    if z.imag == 4:\n",
    "        break\n",
    "    z = z**2 + 1\n"
   ]
  },
  {
   "cell_type": "code",
   "execution_count": 121,
   "metadata": {
    "scrolled": true,
    "ExecuteTime": {
     "end_time": "2023-09-27T14:58:24.208460500Z",
     "start_time": "2023-09-27T14:58:19.751347300Z"
    }
   },
   "outputs": [
    {
     "data": {
      "text/plain": "((-2+4j), 4.0, 4.47213595499958)"
     },
     "execution_count": 121,
     "metadata": {},
     "output_type": "execute_result"
    }
   ],
   "source": [
    "z, z.imag, abs(z)"
   ]
  },
  {
   "cell_type": "markdown",
   "metadata": {},
   "source": [
    "### 4.2.4 Continue для for/while:"
   ]
  },
  {
   "cell_type": "code",
   "execution_count": 122,
   "metadata": {
    "scrolled": true,
    "ExecuteTime": {
     "end_time": "2023-09-27T14:58:24.240467700Z",
     "start_time": "2023-09-27T14:58:19.760071Z"
    }
   },
   "outputs": [
    {
     "name": "stdout",
     "output_type": "stream",
     "text": [
      "1.0\n",
      "0.5\n",
      "0.25\n"
     ]
    }
   ],
   "source": [
    "a = [1, 0, 2, 4]\n",
    "for element in a:\n",
    "    if element == 0:\n",
    "        continue\n",
    "    print(1/element)"
   ]
  },
  {
   "cell_type": "markdown",
   "metadata": {},
   "source": [
    "### 4.2.7 Списковое включение (List comprehension)"
   ]
  },
  {
   "cell_type": "markdown",
   "metadata": {},
   "source": [
    "Списковое включение представляет собой удобный способ создания списков."
   ]
  },
  {
   "cell_type": "code",
   "execution_count": 123,
   "metadata": {
    "scrolled": true,
    "ExecuteTime": {
     "end_time": "2023-09-27T14:58:24.300480800Z",
     "start_time": "2023-09-27T14:58:19.777584100Z"
    }
   },
   "outputs": [
    {
     "data": {
      "text/plain": "[0, 4, 16, 36]"
     },
     "execution_count": 123,
     "metadata": {},
     "output_type": "execute_result"
    }
   ],
   "source": [
    "[i**2 for i in range(8) if i%2==0]"
   ]
  },
  {
   "cell_type": "markdown",
   "metadata": {},
   "source": [
    "# 5. Функции"
   ]
  },
  {
   "cell_type": "markdown",
   "metadata": {},
   "source": [
    "Тело функций отделяется 4 пробелами, как и в случае с блоками условных конструкций."
   ]
  },
  {
   "cell_type": "code",
   "execution_count": 124,
   "metadata": {
    "scrolled": true,
    "ExecuteTime": {
     "end_time": "2023-09-27T14:58:24.429511100Z",
     "start_time": "2023-09-27T14:58:19.794684700Z"
    }
   },
   "outputs": [
    {
     "name": "stdout",
     "output_type": "stream",
     "text": [
      "in test function\n"
     ]
    }
   ],
   "source": [
    "def test():\n",
    "    print('in test function')\n",
    "test()"
   ]
  },
  {
   "cell_type": "code",
   "execution_count": 125,
   "metadata": {
    "scrolled": true,
    "ExecuteTime": {
     "end_time": "2023-09-27T14:58:24.535534Z",
     "start_time": "2023-09-27T14:58:19.797974400Z"
    }
   },
   "outputs": [
    {
     "data": {
      "text/plain": "7.0685834705770345"
     },
     "execution_count": 125,
     "metadata": {},
     "output_type": "execute_result"
    }
   ],
   "source": [
    "import math\n",
    "def disk_area(radius):\n",
    "    return math.pi * radius * radius\n",
    "disk_area(1.5)"
   ]
  },
  {
   "cell_type": "markdown",
   "metadata": {},
   "source": [
    "Опциональный возврат значений организуется с помощью **return**. По умолчанию функции всегда возвращают **None**."
   ]
  },
  {
   "cell_type": "code",
   "execution_count": 126,
   "metadata": {
    "scrolled": false,
    "ExecuteTime": {
     "end_time": "2023-09-27T14:58:24.536533500Z",
     "start_time": "2023-09-27T14:58:19.803520900Z"
    }
   },
   "outputs": [],
   "source": [
    "from math import sin\n",
    "def f(x):\n",
    "    return sin(x)"
   ]
  },
  {
   "cell_type": "markdown",
   "metadata": {},
   "source": [
    "## 6.1 Передача параметров в Python"
   ]
  },
  {
   "cell_type": "markdown",
   "metadata": {},
   "source": [
    "В Python объекты передаются в функции по ссылке (так как переменные лишь ссылаются на объекты). Это означает, что при передаче параметров не происходит копирования, и фунция оперирует над тем же объектами, что и код, ее вызвавший."
   ]
  },
  {
   "cell_type": "code",
   "execution_count": 127,
   "metadata": {
    "scrolled": true,
    "ExecuteTime": {
     "end_time": "2023-09-27T14:58:24.621552500Z",
     "start_time": "2023-09-27T14:58:19.822053200Z"
    }
   },
   "outputs": [
    {
     "name": "stdout",
     "output_type": "stream",
     "text": [
      "In main: l = [1, 2, 3]\n",
      "Executing double_value:\n",
      "in double_value : l = [1, 2, 3]\n",
      "in double_value : changed l to l = [2, 4, 6]\n",
      "In main: l = [2, 4, 6]\n"
     ]
    }
   ],
   "source": [
    "def double_value(l):\n",
    "    print('in double_value : l = {:}'.format(l))\n",
    "    for i in range(len(l)):\n",
    "        l[i] *= 2\n",
    "    print('in double_value : changed l to l = {:}'.format(l))\n",
    "    \n",
    "l_global = [1, 2, 3]\n",
    "print('In main: l = {:}'.format(l_global))\n",
    "print('Executing double_value:')\n",
    "double_value(l_global)\n",
    "print('In main: l = {:}'.format(l_global))\n"
   ]
  },
  {
   "cell_type": "markdown",
   "metadata": {},
   "source": [
    "Однако это не означает, что при присвоении переменной параметра другого значения, это изменит соответствующий объект в вызываемом коде:"
   ]
  },
  {
   "cell_type": "code",
   "execution_count": 128,
   "metadata": {
    "scrolled": true,
    "ExecuteTime": {
     "end_time": "2023-09-27T14:58:24.705571900Z",
     "start_time": "2023-09-27T14:58:19.830445Z"
    }
   },
   "outputs": [
    {
     "name": "stdout",
     "output_type": "stream",
     "text": [
      "In main: l = [1, 2, 3]\n",
      "Executing double_list:\n",
      "in double_list : l = [1, 2, 3]\n",
      "in double_list : changed l to l = [1, 2, 3, 1, 2, 3]\n",
      "In main: l = [1, 2, 3]\n"
     ]
    }
   ],
   "source": [
    "def double_list(l):\n",
    "    print('in double_list : l = {:}'.format(l))\n",
    "    l = l*2\n",
    "    print('in double_list : changed l to l = {:}'.format(l))\n",
    "    \n",
    "l_global = [1, 2, 3]\n",
    "print('In main: l = {:}'.format(l_global))\n",
    "print('Executing double_list:')\n",
    "double_list(l_global)\n",
    "print('In main: l = {:}'.format(l_global))"
   ]
  },
  {
   "cell_type": "markdown",
   "metadata": {},
   "source": [
    "# 7. Модули"
   ]
  },
  {
   "cell_type": "markdown",
   "metadata": {},
   "source": [
    "Python обладает достаточно аккуратной и удобной системой модулей. Модуль представляет собой набор переменных, функций и классов. Каждый .py файл может служить модулем. Самописные модули должны либо лежать в общей папке с вызываемым .py файлом, либо лежать в одном из каталогов из списка sys.path.\n",
    "\n",
    "Доступ к данным модуля организауется с помощью **import** или **from module_name import func_name**. Имя модуля не включается расширение .py.\n",
    "\n",
    "Несколько примеров:"
   ]
  },
  {
   "cell_type": "code",
   "execution_count": 129,
   "metadata": {
    "scrolled": false,
    "ExecuteTime": {
     "end_time": "2023-09-27T14:58:24.806593900Z",
     "start_time": "2023-09-27T14:58:19.847640300Z"
    }
   },
   "outputs": [],
   "source": [
    "from math import pi, cos, sin\n",
    "def f(x):\n",
    "    return sin(x)"
   ]
  },
  {
   "cell_type": "code",
   "execution_count": 130,
   "metadata": {
    "scrolled": true,
    "ExecuteTime": {
     "end_time": "2023-09-27T14:58:24.827599200Z",
     "start_time": "2023-09-27T14:58:19.851218700Z"
    }
   },
   "outputs": [],
   "source": [
    "# Добавление некоторого каталога с модулями в sys.path \n",
    "import sys\n",
    "sys.path.append('./')"
   ]
  }
 ],
 "metadata": {
  "kernelspec": {
   "display_name": "Python 3",
   "language": "python",
   "name": "python3"
  },
  "language_info": {
   "codemirror_mode": {
    "name": "ipython",
    "version": 3
   },
   "file_extension": ".py",
   "mimetype": "text/x-python",
   "name": "python",
   "nbconvert_exporter": "python",
   "pygments_lexer": "ipython3",
   "version": "3.4.3"
  }
 },
 "nbformat": 4,
 "nbformat_minor": 1
}
